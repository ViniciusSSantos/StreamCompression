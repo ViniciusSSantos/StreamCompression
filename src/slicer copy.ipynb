{
 "cells": [
  {
   "cell_type": "markdown",
   "metadata": {},
   "source": [
    "## importar Bibliotecas"
   ]
  },
  {
   "cell_type": "code",
   "execution_count": 1,
   "metadata": {},
   "outputs": [],
   "source": [
    "import numpy as np\n",
    "import glob\n",
    "from moviepy.video.io.ffmpeg_tools import ffmpeg_extract_subclip\n",
    "from moviepy.editor import VideoFileClip\n",
    "import cv2"
   ]
  },
  {
   "cell_type": "markdown",
   "metadata": {},
   "source": [
    "## Calcular duração e fps"
   ]
  },
  {
   "cell_type": "markdown",
   "metadata": {},
   "source": [
    "Informações importantes, o fps é importante pois precisamos enviar sempre 1s de video por pacote, o fps tambem será enviado para o client pois é ncessario para executar a remontagem do video."
   ]
  },
  {
   "cell_type": "code",
   "execution_count": 4,
   "metadata": {},
   "outputs": [
    {
     "name": "stdout",
     "output_type": "stream",
     "text": [
      "Duration: 6.0s\n",
      "FPS: 60.0\n"
     ]
    }
   ],
   "source": [
    "clip = VideoFileClip(\"Slicer-Combiner/2nd4.mp4\")\n",
    "print(f\"Duration: {clip.duration}s\\nFPS: {clip.fps}\")\n"
   ]
  },
  {
   "cell_type": "markdown",
   "metadata": {},
   "source": [
    "## Separar em intervalos de 1 segundo"
   ]
  },
  {
   "cell_type": "markdown",
   "metadata": {},
   "source": [
    "Esses se transformaram nos pacotes."
   ]
  },
  {
   "cell_type": "code",
   "execution_count": null,
   "metadata": {},
   "outputs": [],
   "source": [
    "inter = int(np.floor(clip.duration-1))\n",
    "for time in range(inter):\n",
    "    name = str(time)+'.mp4'\n",
    "    ffmpeg_extract_subclip(\"Slicer-Combiner/2nd4.mp4\", time, time+1, targetname=name)\n",
    "    print(f\"{time}s -> {time+1} s\")\n",
    "ffmpeg_extract_subclip(\"Slicer-Combiner/2nd4.mp4\", inter, clip.duration, targetname=str(time+1)+'.mp4')\n",
    "print(f\"{inter}s -> {clip.duration} s\")"
   ]
  },
  {
   "cell_type": "markdown",
   "metadata": {},
   "source": [
    "## Extrair os Frames"
   ]
  },
  {
   "cell_type": "markdown",
   "metadata": {},
   "source": [
    "Para depois serem transformados em string."
   ]
  },
  {
   "cell_type": "code",
   "execution_count": null,
   "metadata": {},
   "outputs": [],
   "source": [
    "def frames_extract(video):\n",
    "    cap= cv2.VideoCapture(video)\n",
    "    fps = cap.get(cv2.CAP_PROP_FPS)\n",
    "    i=0\n",
    "    while(cap.isOpened()):\n",
    "        ret, frame = cap.read()\n",
    "        if ret == False:\n",
    "            break\n",
    "        cv2.imwrite('kang'+str(i)+'.png',frame)\n",
    "        i+=1\n",
    "    cap.release()\n",
    "    cv2.destroyAllWindows()\n"
   ]
  },
  {
   "cell_type": "code",
   "execution_count": null,
   "metadata": {},
   "outputs": [],
   "source": [
    "frames_extract(\"0.mp4\")"
   ]
  },
  {
   "cell_type": "markdown",
   "metadata": {},
   "source": [
    "## Importar o modulo utils.string"
   ]
  },
  {
   "cell_type": "markdown",
   "metadata": {},
   "source": [
    "Que transforma os frames em strings para se poder utilizar os algoritmos de compressão."
   ]
  },
  {
   "cell_type": "code",
   "execution_count": null,
   "metadata": {},
   "outputs": [],
   "source": [
    "import utils.string"
   ]
  },
  {
   "cell_type": "code",
   "execution_count": null,
   "metadata": {},
   "outputs": [],
   "source": [
    "a = utils.string.videoToString(\"Slicer-Combiner/kang0.png\")"
   ]
  },
  {
   "cell_type": "code",
   "execution_count": null,
   "metadata": {},
   "outputs": [],
   "source": [
    "utils.string.stringToImage(utils.string.imageToString(\"Slicer-Combiner/kang0.png\"))"
   ]
  },
  {
   "cell_type": "markdown",
   "metadata": {},
   "source": [
    "# Juntar tudo"
   ]
  },
  {
   "cell_type": "markdown",
   "metadata": {},
   "source": [
    "É preciso transformar cada segudo de video em uma quantidade igual ao FPS de strings para serem enviadas em cada pacote."
   ]
  },
  {
   "cell_type": "code",
   "execution_count": null,
   "metadata": {},
   "outputs": [],
   "source": [
    "list = []\n",
    "inter = int(np.floor(clip.duration-1))\n",
    "for time in range(inter):\n",
    "    ffmpeg_extract_subclip(\"Slicer-Combiner/2nd4.mp4\", time, time+1, targetname=\"sub.mp4\")\n",
    "    frames_extract(\"sub.mp4\")\n",
    "    for filename in glob.glob('*.png'):\n",
    "         list.append(utils.string.imageToString(filename))\n",
    "    print(str(time) + \"s -> \" + str(time+1) + \"s\")\n",
    "\n",
    "ffmpeg_extract_subclip(\"Slicer-Combiner/2nd4.mp4\", inter, clip.duration, targetname=\"sub.mp4\")\n",
    "for filename in glob.glob('*.png'):\n",
    "     list.append(utils.string.imageToString(filename))\n",
    "print(str(inter) + \"s -> \" + str(clip.duration) + \"s\")"
   ]
  },
  {
   "cell_type": "code",
   "execution_count": null,
   "metadata": {},
   "outputs": [],
   "source": [
    "len(list)"
   ]
  },
  {
   "cell_type": "markdown",
   "metadata": {},
   "source": [
    "Mudar funcão frames_extract para não salvar as imagens e sim as strings em uma lista."
   ]
  },
  {
   "cell_type": "code",
   "execution_count": null,
   "metadata": {},
   "outputs": [],
   "source": [
    "def frames_extract2(video):\n",
    "    list = []\n",
    "    cap= cv2.VideoCapture(video)\n",
    "    fps = cap.get(cv2.CAP_PROP_FPS)\n",
    "    i=0\n",
    "    while(cap.isOpened()):\n",
    "        ret, frame = cap.read()\n",
    "        if ret == False:\n",
    "            break\n",
    "        cv2.imwrite('frame.png',frame)\n",
    "        list.append(utils.string.imageToString(\"frame.png\"))\n",
    "        i+=1\n",
    "    cap.release()\n",
    "    cv2.destroyAllWindows()\n",
    "    return list"
   ]
  },
  {
   "cell_type": "code",
   "execution_count": null,
   "metadata": {},
   "outputs": [],
   "source": [
    "frame0list = frames_extract2(\"Slicer-Combiner/0.mp4\")\n",
    "len(frame0list)"
   ]
  },
  {
   "cell_type": "markdown",
   "metadata": {},
   "source": [
    "Modificar código para aceitar a nova função."
   ]
  },
  {
   "cell_type": "code",
   "execution_count": null,
   "metadata": {},
   "outputs": [],
   "source": [
    "list = []\n",
    "inter = int(np.floor(clip.duration-1))\n",
    "for time in range(inter):\n",
    "    ffmpeg_extract_subclip(\"Slicer-Combiner/2nd4.mp4\", time, time+1, targetname=\"sub.mp4\")\n",
    "    list.extend(frames_extract2(\"sub.mp4\"))\n",
    "    print(f\"{time}s -> {time+1} s\")\n",
    "\n",
    "ffmpeg_extract_subclip(\"Slicer-Combiner/2nd4.mp4\", inter, clip.duration, targetname=\"sub.mp4\")\n",
    "list.extend(frames_extract2(\"sub.mp4\"))\n",
    "print(f\"{inter}s -> {clip.duration} s\")"
   ]
  },
  {
   "cell_type": "code",
   "execution_count": null,
   "metadata": {},
   "outputs": [],
   "source": [
    "len(list)"
   ]
  },
  {
   "cell_type": "markdown",
   "metadata": {},
   "source": [
    "## Suprise mother fck**"
   ]
  },
  {
   "cell_type": "markdown",
   "metadata": {},
   "source": [
    "Descubri agora, exatamente as 01:18 que a função base64 transforma video em string tambem. Logo perdi tempo a toa."
   ]
  },
  {
   "cell_type": "code",
   "execution_count": null,
   "metadata": {},
   "outputs": [],
   "source": [
    "import utils.string"
   ]
  },
  {
   "cell_type": "code",
   "execution_count": null,
   "metadata": {},
   "outputs": [],
   "source": [
    "a = utils.string.videoToString(\"Slicer-Combiner/2nd4.mp4\")"
   ]
  },
  {
   "cell_type": "code",
   "execution_count": null,
   "metadata": {},
   "outputs": [],
   "source": [
    "utils.string.stringToVideo(a, \"hello_level\")"
   ]
  },
  {
   "cell_type": "code",
   "execution_count": null,
   "metadata": {},
   "outputs": [],
   "source": [
    "from IPython.display import Video\n",
    "\n",
    "Video(\"hello_level.mp4\")"
   ]
  },
  {
   "cell_type": "markdown",
   "metadata": {},
   "source": [
    "## Refazendo o código"
   ]
  },
  {
   "cell_type": "code",
   "execution_count": 5,
   "metadata": {},
   "outputs": [
    {
     "name": "stdout",
     "output_type": "stream",
     "text": [
      "Duration: 6.0s\n",
      "FPS: 60.0\n"
     ]
    }
   ],
   "source": [
    "clip = VideoFileClip(\"Slicer-Combiner/2nd4.mp4\")\n",
    "print(f\"Duration: {clip.duration}s\\nFPS: {clip.fps}\")"
   ]
  },
  {
   "cell_type": "code",
   "execution_count": 8,
   "metadata": {},
   "outputs": [],
   "source": [
    "import utils.string"
   ]
  },
  {
   "cell_type": "code",
   "execution_count": 9,
   "metadata": {},
   "outputs": [
    {
     "name": "stdout",
     "output_type": "stream",
     "text": [
      "Moviepy - Running:\n",
      ">>> \"+ \" \".join(cmd)\n",
      "Moviepy - Command successful\n",
      "0s -> 1 s\n",
      "Moviepy - Running:\n",
      ">>> \"+ \" \".join(cmd)\n",
      "Moviepy - Command successful\n",
      "1s -> 2 s\n",
      "Moviepy - Running:\n",
      ">>> \"+ \" \".join(cmd)\n",
      "Moviepy - Command successful\n",
      "2s -> 3 s\n",
      "Moviepy - Running:\n",
      ">>> \"+ \" \".join(cmd)\n",
      "Moviepy - Command successful\n",
      "3s -> 4 s\n",
      "Moviepy - Running:\n",
      ">>> \"+ \" \".join(cmd)\n",
      "Moviepy - Command successful\n",
      "4s -> 5 s\n",
      "Moviepy - Running:\n",
      ">>> \"+ \" \".join(cmd)\n",
      "Moviepy - Command successful\n",
      "5s -> 6.0 s\n"
     ]
    },
    {
     "data": {
      "text/plain": [
       "6"
      ]
     },
     "execution_count": 9,
     "metadata": {},
     "output_type": "execute_result"
    }
   ],
   "source": [
    "list = []\n",
    "inter = int(np.floor(clip.duration-1))\n",
    "for time in range(inter):\n",
    "    ffmpeg_extract_subclip(\"Slicer-Combiner/2nd4.mp4\", time, time+1, targetname=\"sub.mp4\")\n",
    "    list.append(utils.string.videoToString(\"sub.mp4\"))\n",
    "    print(f\"{time}s -> {time+1} s\")\n",
    "\n",
    "ffmpeg_extract_subclip(\"Slicer-Combiner/2nd4.mp4\", inter, clip.duration, targetname=\"sub.mp4\")\n",
    "list.append(utils.string.videoToString(\"sub.mp4\"))\n",
    "print(f\"{inter}s -> {clip.duration} s\")\n",
    "len(list)"
   ]
  },
  {
   "cell_type": "markdown",
   "metadata": {},
   "source": [
    "## Transferêcia via internet (Simulada)"
   ]
  },
  {
   "cell_type": "code",
   "execution_count": null,
   "metadata": {},
   "outputs": [],
   "source": [
    "list = []\n",
    "inter = int(np.floor(clip.duration-1))\n",
    "for time in range(inter):\n",
    "    ffmpeg_extract_subclip(\"Slicer-Combiner/2nd4.mp4\", time, time+1, targetname=\"sub.mp4\")\n",
    "    utils.string.videoToString(\"sub.mp4\")\n",
    "    print(f\"{time}s -> {time+1} s\")\n",
    "\n",
    "ffmpeg_extract_subclip(\"Slicer-Combiner/2nd4.mp4\", inter, clip.duration, targetname=\"sub.mp4\")\n",
    "utils.string.videoToString(\"sub.mp4\")\n",
    "print(f\"{inter}s -> {clip.duration} s\")\n",
    "len(list)"
   ]
  },
  {
   "cell_type": "code",
   "execution_count": 13,
   "metadata": {},
   "outputs": [
    {
     "name": "stdout",
     "output_type": "stream",
     "text": [
      "14/11/2021 02:01:00\n",
      "14/11/2021 02:01:00\n",
      "14/11/2021 02:01:00\n",
      "14/11/2021 02:01:00\n",
      "14/11/2021 02:01:00\n"
     ]
    }
   ],
   "source": [
    "from datetime import datetime\n",
    "import time\n",
    "i = 0\n",
    "while i<5:\n",
    "         time.sleep(0.05)\n",
    "         data_e_hora_atuais = datetime.now()\n",
    "         data_e_hora_em_texto = data_e_hora_atuais.strftime('%d/%m/%Y %H:%M:%S')\n",
    "         print(data_e_hora_em_texto)\n",
    "         i=i+1"
   ]
  }
 ],
 "metadata": {
  "interpreter": {
   "hash": "c02e12f2f1846a39020a18f75f90494da0856c320ed7de0c8fb890c6e29dd409"
  },
  "kernelspec": {
   "display_name": "Python 3.9.2 64-bit",
   "language": "python",
   "name": "python3"
  },
  "language_info": {
   "codemirror_mode": {
    "name": "ipython",
    "version": 3
   },
   "file_extension": ".py",
   "mimetype": "text/x-python",
   "name": "python",
   "nbconvert_exporter": "python",
   "pygments_lexer": "ipython3",
   "version": "3.9.2"
  },
  "orig_nbformat": 4
 },
 "nbformat": 4,
 "nbformat_minor": 2
}
